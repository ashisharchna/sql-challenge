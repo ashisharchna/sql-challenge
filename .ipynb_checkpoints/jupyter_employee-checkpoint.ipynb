{
 "cells": [
  {
   "cell_type": "code",
   "execution_count": 1,
   "metadata": {
    "ExecuteTime": {
     "end_time": "2020-04-28T02:26:09.245340Z",
     "start_time": "2020-04-28T02:26:08.567597Z"
    }
   },
   "outputs": [],
   "source": [
    "# Import required libraries\n",
    "\n",
    "import os\n",
    "import pandas as pd\n",
    "import numpy as np\n",
    "import matplotlib.pyplot as plt\n",
    "import sqlalchemy as db"
   ]
  },
  {
   "cell_type": "code",
   "execution_count": 2,
   "metadata": {
    "ExecuteTime": {
     "end_time": "2020-04-28T02:26:09.262294Z",
     "start_time": "2020-04-28T02:26:09.247335Z"
    }
   },
   "outputs": [
    {
     "ename": "ModuleNotFoundError",
     "evalue": "No module named 'dotenv'",
     "output_type": "error",
     "traceback": [
      "\u001b[1;31m-------------------------------------------------------------\u001b[0m",
      "\u001b[1;31mModuleNotFoundError\u001b[0m         Traceback (most recent call last)",
      "\u001b[1;32m<ipython-input-2-b5ee5c2ee6e1>\u001b[0m in \u001b[0;36m<module>\u001b[1;34m\u001b[0m\n\u001b[0;32m      5\u001b[0m \u001b[1;31m# This methods prevents any hardcoded id and password in the code.\u001b[0m\u001b[1;33m\u001b[0m\u001b[1;33m\u001b[0m\u001b[1;33m\u001b[0m\u001b[0m\n\u001b[0;32m      6\u001b[0m \u001b[1;33m\u001b[0m\u001b[0m\n\u001b[1;32m----> 7\u001b[1;33m \u001b[1;32mfrom\u001b[0m \u001b[0mdotenv\u001b[0m \u001b[1;32mimport\u001b[0m \u001b[0mload_dotenv\u001b[0m\u001b[1;33m\u001b[0m\u001b[1;33m\u001b[0m\u001b[0m\n\u001b[0m\u001b[0;32m      8\u001b[0m \u001b[0mload_dotenv\u001b[0m\u001b[1;33m(\u001b[0m\u001b[1;34m\".env\"\u001b[0m\u001b[1;33m)\u001b[0m\u001b[1;33m\u001b[0m\u001b[1;33m\u001b[0m\u001b[0m\n\u001b[0;32m      9\u001b[0m \u001b[1;33m\u001b[0m\u001b[0m\n",
      "\u001b[1;31mModuleNotFoundError\u001b[0m: No module named 'dotenv'"
     ]
    }
   ],
   "source": [
    "# Load the data from the .env file for the project\n",
    "# Download and install python-dotenv library; use \"pip install python-dotenv\"\n",
    "# Also need to include the .env file in the root folder and add it to the \n",
    "# This .env file has the values for connecting to the Postgres DB server.\n",
    "# This methods prevents any hardcoded id and password in the code.\n",
    "\n",
    "from dotenv import load_dotenv\n",
    "load_dotenv(\".env\")\n",
    "\n",
    "# Get the Postgres related details\n",
    "db_driver = os.environ.get('DB_DRIVER')\n",
    "postgres_server = os.environ.get('POSTGRES_SERVER')\n",
    "postgres_server_port = os.environ.get('POSTGRES_SERVER_PORT')\n",
    "postgres_db = os.environ.get('POSTGRES_DB')\n",
    "postgres_user = os.environ.get('POSTGRES_USER')\n",
    "postgres_pwd = os.environ.get('POSTGRES_PWD')"
   ]
  },
  {
   "cell_type": "code",
   "execution_count": null,
   "metadata": {
    "ExecuteTime": {
     "end_time": "2020-04-28T02:26:09.345000Z",
     "start_time": "2020-04-28T02:26:09.264288Z"
    }
   },
   "outputs": [],
   "source": [
    "# Create a connection to the Postgres database engine\n",
    "#connection_string = 'postgresql://<user>:<pwd>@<host>:<port>/<database>'\n",
    "connection_string = f'{db_driver}://{postgres_user}:{postgres_pwd}@{postgres_server}:{postgres_server_port}/{postgres_db}'\n",
    "engine = db.create_engine(connection_string)\n",
    "connection = engine.connect()"
   ]
  },
  {
   "cell_type": "code",
   "execution_count": null,
   "metadata": {
    "ExecuteTime": {
     "end_time": "2020-04-28T02:26:09.935082Z",
     "start_time": "2020-04-28T02:26:09.345953Z"
    },
    "code_folding": []
   },
   "outputs": [],
   "source": [
    "# Execute the query against the Postgres DB using the \"connection\"\n",
    "# SQL query to get the salary of all the employees from the employee_db in Postgres\n",
    "query = 'select e.emp_no as \"Employee Number\" \\\n",
    "               ,e.last_name as \"Last Name\" \\\n",
    "               ,e.first_name as \"First Name\" \\\n",
    "               ,e.sex as \"Gender\" \\\n",
    "               ,s.salary as \"Salary\" \\\n",
    "           from public.employees as e \\\n",
    "                left join public.salaries as s on (e.emp_no = s.emp_no) \\\n",
    "       order by e.emp_no;'\n",
    "\n",
    "ResultProxy = connection.execute(query)\n",
    "ResultSet = ResultProxy.fetchall()\n",
    "\n",
    "# Display first 5 records\n",
    "ResultSet[:5]"
   ]
  },
  {
   "cell_type": "code",
   "execution_count": null,
   "metadata": {
    "ExecuteTime": {
     "end_time": "2020-04-28T02:26:10.283218Z",
     "start_time": "2020-04-28T02:26:09.936081Z"
    }
   },
   "outputs": [],
   "source": [
    "#Create a Pandas DataFrame to analyze the Salary data\n",
    "salary_df = pd.DataFrame(ResultSet)\n",
    "salary_df.columns = ['Employee Number','Last Name','First Name','Gender','Salary']\n",
    "salary_df.head()"
   ]
  },
  {
   "cell_type": "code",
   "execution_count": null,
   "metadata": {
    "ExecuteTime": {
     "end_time": "2020-04-28T02:26:10.989939Z",
     "start_time": "2020-04-28T02:26:10.286207Z"
    }
   },
   "outputs": [],
   "source": [
    "# Plot the histogram for the Employee Salary.\n",
    "\n",
    "salary_list = salary_df['Salary']\n",
    "\n",
    "# Create 10 bins for the histogram\n",
    "bins = np.linspace(salary_list.min(), salary_list.max(), 10)\n",
    "\n",
    "plt.figure(figsize=[14,6])\n",
    "plt.title('Employee Salary Distribution', fontsize=15)\n",
    "plt.xlabel('Salary', fontsize=15)\n",
    "plt.ylabel('Frequency', fontsize=15)\n",
    "plt.xticks(fontsize=15)\n",
    "plt.yticks(fontsize=15)\n",
    "plt.xticks(rotation=90)\n",
    "plt.grid(axis='y', alpha=0.75)\n",
    "plt.legend(['Salary'], loc='best')\n",
    "\n",
    "# Plot the Histogram\n",
    "n, bins, patches = plt.hist(x=salary_list, bins=bins, color='#0504aa', alpha=0.7, rwidth=1.0)\n",
    "\n",
    "plt.savefig('./output/fig01-employee-salary.png', format='png', bbox_inches='tight', dpi=300)  "
   ]
  },
  {
   "cell_type": "code",
   "execution_count": null,
   "metadata": {
    "ExecuteTime": {
     "end_time": "2020-04-28T02:26:11.245147Z",
     "start_time": "2020-04-28T02:26:10.992013Z"
    }
   },
   "outputs": [],
   "source": [
    "# Get the data to plot the \"Employee Average Salary by Title\"\n",
    "# Execute the query against the Postgres DB using the \"connection\"\n",
    "# SQL query to get the \"Employee Average Salary by Title\" from the \"employee_db\" in Postgres\n",
    "# The query uses left outer join though it is not required as all the employees have a correspoding\n",
    "# record in the other 2 tables by the left join.\n",
    "\n",
    "query = 'select t.title as \"Title\" \\\n",
    "               ,cast(round(avg(s.salary), 0) as integer) as \"Avg Salary\" \\\n",
    "           from public.employees as e \\\n",
    "                left join public.salaries as s on (e.emp_no = s.emp_no) \\\n",
    "                left join public.titles as t on (e.emp_title_id = t.title_id) \\\n",
    "       group by t.title \\\n",
    "       order by t.title;'\n",
    "\n",
    "ResultProxy = connection.execute(query)\n",
    "ResultSet = ResultProxy.fetchall()\n",
    "\n",
    "# Display all the data retrieved\n",
    "ResultSet[:]"
   ]
  },
  {
   "cell_type": "code",
   "execution_count": null,
   "metadata": {
    "ExecuteTime": {
     "end_time": "2020-04-28T02:26:11.255117Z",
     "start_time": "2020-04-28T02:26:11.246140Z"
    }
   },
   "outputs": [],
   "source": [
    "#Create a Pandas DataFrame to analyze the salary data\n",
    "title_avg_salary_df = pd.DataFrame(ResultSet)\n",
    "title_avg_salary_df.columns = ['Title','Avg Salary']\n",
    "title_avg_salary_df"
   ]
  },
  {
   "cell_type": "code",
   "execution_count": null,
   "metadata": {
    "ExecuteTime": {
     "end_time": "2020-04-28T02:26:11.821604Z",
     "start_time": "2020-04-28T02:26:11.257113Z"
    }
   },
   "outputs": [],
   "source": [
    "plt.figure(figsize=[14,6])\n",
    "plt.title('Average Salary by Employee Title', fontsize=15)\n",
    "plt.xlabel('Employee Title', fontsize=15)\n",
    "plt.ylabel('Average Salary', fontsize=15)\n",
    "plt.xticks(fontsize=12)\n",
    "plt.yticks(fontsize=12)\n",
    "\n",
    "x_axis = title_avg_salary_df['Title']\n",
    "y_axis = title_avg_salary_df['Avg Salary']\n",
    "\n",
    "# Number of bars\n",
    "N = len(title_avg_salary_df)\n",
    "map_df = pd.Series(np.random.randint(10, 50, N), index=np.arange(1, N+1))\n",
    "cmap = plt.cm.tab10\n",
    "colors = cmap(np.arange(len(map_df)) % cmap.N)\n",
    "                  \n",
    "plt.bar(x_axis, y_axis, color=colors)\n",
    "plt.grid(axis='y', alpha=0.75)\n",
    "\n",
    "plt.savefig('./output/fig02-avg-salary-by-title.png', format='png', bbox_inches='tight', dpi=300)"
   ]
  }
 ],
 "metadata": {
  "kernelspec": {
   "display_name": "Python 3",
   "language": "python",
   "name": "python3"
  },
  "language_info": {
   "codemirror_mode": {
    "name": "ipython",
    "version": 3
   },
   "file_extension": ".py",
   "mimetype": "text/x-python",
   "name": "python",
   "nbconvert_exporter": "python",
   "pygments_lexer": "ipython3",
   "version": "3.7.2"
  },
  "latex_envs": {
   "LaTeX_envs_menu_present": true,
   "autoclose": false,
   "autocomplete": true,
   "bibliofile": "biblio.bib",
   "cite_by": "apalike",
   "current_citInitial": 1,
   "eqLabelWithNumbers": true,
   "eqNumInitial": 1,
   "hotkeys": {
    "equation": "Ctrl-E",
    "itemize": "Ctrl-I"
   },
   "labels_anchors": false,
   "latex_user_defs": false,
   "report_style_numbering": false,
   "user_envs_cfg": false
  },
  "toc": {
   "base_numbering": 1,
   "nav_menu": {},
   "number_sections": true,
   "sideBar": true,
   "skip_h1_title": false,
   "title_cell": "Table of Contents",
   "title_sidebar": "Contents",
   "toc_cell": false,
   "toc_position": {},
   "toc_section_display": true,
   "toc_window_display": false
  }
 },
 "nbformat": 4,
 "nbformat_minor": 4
}
